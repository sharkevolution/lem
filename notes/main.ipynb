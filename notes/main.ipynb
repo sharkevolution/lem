{
 "cells": [
  {
   "cell_type": "markdown",
   "id": "48455d62-1165-447f-948c-b83da6be3813",
   "metadata": {},
   "source": [
    "<h2 style=\"font-family: 'Times New Roman'\">Приведения словоформы к лемме</h2>"
   ]
  },
  {
   "cell_type": "code",
   "execution_count": null,
   "id": "9560c3c8-edf1-4553-ac72-7105344ed665",
   "metadata": {},
   "outputs": [],
   "source": [
    "import string\n",
    "import pymorphy3\n",
    "import panel as pn\n",
    "import ipywidgets as widgets\n",
    "from ipywidgets.widgets import Label, Layout, HBox\n",
    "from ipydatagrid import  DataGrid, TextRenderer, BarRenderer, Expr\n",
    "import pandas as pd\n",
    "import gspread\n",
    "\n",
    "import doexample\n",
    "pn.extension('tabulator')"
   ]
  },
  {
   "cell_type": "markdown",
   "id": "b593bf4a-6deb-434b-ac51-7e19a7e320f6",
   "metadata": {},
   "source": [
    "<h3 style=\"font-family: 'Times New Roman'\">Загрузите файл 'json' для доступа к таблице Google</h3>"
   ]
  },
  {
   "cell_type": "code",
   "execution_count": null,
   "id": "ddeafe92-a7b9-4815-9591-94892f9c227e",
   "metadata": {},
   "outputs": [],
   "source": [
    "uploader = widgets.FileUpload(accept='.json', multiple=False)\n",
    "display(uploader)"
   ]
  },
  {
   "cell_type": "markdown",
   "id": "92ec213d-45aa-48e2-a9ad-36e15c05e0bf",
   "metadata": {},
   "source": [
    "<h3 style=\"font-family: 'Times New Roman'\">Сохранить файл в локальную папку</h3>"
   ]
  },
  {
   "cell_type": "code",
   "execution_count": null,
   "id": "43a67d37-d517-409a-bae9-ae8664701a5a",
   "metadata": {},
   "outputs": [],
   "source": [
    "import os\n",
    "try:\n",
    "    tmpath = f'keys'\n",
    "    os.mkdir(tmpath)\n",
    "except Exception as ex:\n",
    "    pass\n",
    "uploaded_file = uploader.value[0]\n",
    "with open(f\"../keys/{uploaded_file.name}\", \"wb\") as fp:\n",
    "    fp.write(uploaded_file.content)\n",
    "print(f'Saved file: {uploaded_file.name}')"
   ]
  },
  {
   "cell_type": "markdown",
   "id": "9d2b380b-497c-48af-8a70-dad0a0bd7cf8",
   "metadata": {},
   "source": [
    "<h3 style=\"font-family: 'Times New Roman'\">Подключение к таблице</h3>"
   ]
  },
  {
   "cell_type": "code",
   "execution_count": null,
   "id": "e9f303dc-af3d-4288-bc75-277483f3d8af",
   "metadata": {},
   "outputs": [],
   "source": [
    "sa = gspread.service_account(filename=f'../keys/{uploaded_file.name}')\n",
    "book = sa.open(\"tokens\")"
   ]
  },
  {
   "cell_type": "markdown",
   "id": "a0d524fd-d1db-4bd3-9ae6-5bed2a649b11",
   "metadata": {},
   "source": [
    "<h3 style=\"font-family: 'Times New Roman'\">Выберите лист таблицы</h3>"
   ]
  },
  {
   "cell_type": "code",
   "execution_count": null,
   "id": "4e79aeee-6669-4543-b5e1-e19414ae2697",
   "metadata": {},
   "outputs": [],
   "source": [
    "worksheet_list = book.worksheets()\n",
    "drop_list = [(b.title, i+1) for i, b in enumerate(worksheet_list)]\n",
    "\n",
    "widget_sheet = widgets.Dropdown(\n",
    "    options=drop_list,\n",
    "    value=1,\n",
    "    description='Название листа:',\n",
    "    layout = widgets.Layout(width='400px'),\n",
    "    style={'description_width': 'initial'}\n",
    ")\n",
    "display(widget_sheet)"
   ]
  },
  {
   "cell_type": "markdown",
   "id": "4ef24fb8-b35c-4d0f-81fb-5b8fb95419c7",
   "metadata": {},
   "source": [
    "<h3 style=\"font-family: 'Times New Roman'\">Выберите тему (заголовок столбца)</h3>"
   ]
  },
  {
   "cell_type": "code",
   "execution_count": null,
   "id": "59d5d5a8-e6a4-4dac-beff-e1bc6c9f6c4e",
   "metadata": {},
   "outputs": [],
   "source": [
    "work_sheet = book.worksheet(drop_list[0][widget_sheet.value-1])\n",
    "heads_sheet = work_sheet.get('1:1')\n",
    "drop_heads_list = {(b, i+1) for i, b in enumerate(heads_sheet[0]) if len(b) > 0}\n",
    "\n",
    "widget_sheet_theme = widgets.Dropdown(\n",
    "    options=drop_heads_list, value=1, description='Тема:',\n",
    "    layout = widgets.Layout(width='300px'),\n",
    "    style={'description_width': 'initial'}\n",
    ")\n",
    "display(widget_sheet_theme)"
   ]
  },
  {
   "cell_type": "markdown",
   "id": "3fa3b14e-1077-4cd1-b4d3-f935b9d4b5c5",
   "metadata": {},
   "source": [
    "<h3 style=\"font-family: 'Times New Roman'\">Список граммем Opencorpora</h3>"
   ]
  },
  {
   "cell_type": "code",
   "execution_count": null,
   "id": "739d0b31-cdd7-445b-93cd-4aea50727d11",
   "metadata": {},
   "outputs": [],
   "source": [
    "dataframe = doexample.cache_grammemes(\"../resources/grammemes.xlsx\")\n",
    "fr = pd.DataFrame.from_dict(dataframe)\n",
    "df = pd.DataFrame(fr)\n",
    "\n",
    "fsize = TextRenderer(font=Expr(\"'12px Calibri'\"))\n",
    "renderers = {\"Граммема\": fsize, \"Группа\": fsize, \"Значение\": fsize, \"Примеры\": fsize, \"Пояснение\": fsize,} \n",
    "datagrid = DataGrid(df, layout={\"height\": \"300px\", \"width\": \"950px\"}, selection_mode=\"cell\", base_row_size=21, base_column_size=170, renderers=renderers)\n",
    "datagrid"
   ]
  },
  {
   "cell_type": "markdown",
   "id": "5b085b1c-d208-407d-8fc1-a43d660ca6a7",
   "metadata": {},
   "source": [
    "<h3 style=\"font-family: 'Times New Roman'\">Настройка ограничений для токенов</h3>"
   ]
  },
  {
   "cell_type": "code",
   "execution_count": null,
   "id": "8604ff98-90e0-4e92-a0b5-fbd16f4f08dd",
   "metadata": {},
   "outputs": [],
   "source": [
    "descr = fr.iloc[:, [0, 1]]\n",
    "mytags = [b[0] for b in descr.values.tolist()]\n",
    "\n",
    "tags = widgets.TagsInput(\n",
    "    value=['CONJ', 'PRCL', 'NUMB', 'PNCT', 'PREP', 'NPRO', 'ADVB'],\n",
    "    allowed_tags=mytags, allow_duplicates=False)\n",
    "tags"
   ]
  },
  {
   "cell_type": "markdown",
   "id": "fabe451a-29f4-42ee-bb16-37d5c827f6c0",
   "metadata": {},
   "source": [
    "<h3 style=\"font-family: 'Times New Roman'\">Функция очистки буфера</h3>"
   ]
  },
  {
   "cell_type": "code",
   "execution_count": null,
   "id": "bf9faf6e-beba-4eb4-bf24-90edf30753cc",
   "metadata": {},
   "outputs": [],
   "source": [
    "output = widgets.Output()\n",
    "button = widgets.Button(\n",
    "    description='Очистить буфер',\n",
    "    disabled=False,\n",
    "    button_style='', \n",
    "    tooltip='Click me',\n",
    "    icon='check',)\n",
    "\n",
    "def on_button_clicked(b):\n",
    "  with output:\n",
    "    wtx.value = ''\n",
    "button.on_click(on_button_clicked)"
   ]
  },
  {
   "cell_type": "markdown",
   "id": "fb0d604d-64af-4b35-ba69-97419f0fc393",
   "metadata": {},
   "source": [
    "<h3 style=\"font-family: 'Times New Roman'\">Буфер для вставки текста</h3>"
   ]
  },
  {
   "cell_type": "code",
   "execution_count": null,
   "id": "3c34d646-9481-4b92-ae86-a9f378da648e",
   "metadata": {},
   "outputs": [],
   "source": [
    "%%html\n",
    "<style>\n",
    "    .wtx_bg{width:auto; background-color:#F5F5DC;}\n",
    "</style>"
   ]
  },
  {
   "cell_type": "code",
   "execution_count": null,
   "id": "40c7e4cf-46b4-42f1-b69b-879ccb2703cc",
   "metadata": {},
   "outputs": [],
   "source": [
    "wtx = widgets.Textarea(\n",
    "    value='первое 1.1 число 2, дня и года',\n",
    "    placeholder='Type something',\n",
    "    description='Буфер:',\n",
    "    disabled=False,\n",
    "    style={'description_height': 'initial', 'description_width': 'initial'},\n",
    "    layout = widgets.Layout(width='1000px', min_height='90px', padding='10px 20px 10px 0px', justify_content='flex-end')\n",
    ")\n",
    "wtx.add_class('wtx_bg')\n",
    "display(wtx)\n",
    "display(button, output)"
   ]
  },
  {
   "cell_type": "markdown",
   "id": "3b2b0970-1ed9-4ae8-b4e7-4028381edefd",
   "metadata": {},
   "source": [
    "<h3 style=\"font-family: 'Times New Roman'\">Детектор языкы текста в буфере (украинский, русский)</h3>"
   ]
  },
  {
   "cell_type": "code",
   "execution_count": null,
   "id": "55e40c4b-1246-4e70-99fd-8f2fd7bee5c8",
   "metadata": {},
   "outputs": [],
   "source": [
    "from langdetect import detect\n",
    "radio_choice = None\n",
    "if wtx.value:\n",
    "    language = detect(wtx.value)\n",
    "    choice = 'Украинский'\n",
    "    vc_from = \"ukrainian\"\n",
    "    vc_to = \"russian\"\n",
    "    \n",
    "    if language == 'ru':\n",
    "        choice = 'Русский'\n",
    "        x = vc_from\n",
    "        vc_from = vc_to\n",
    "        vc_to = x\n",
    "    \n",
    "    radio_choice = widgets.RadioButtons(\n",
    "        options=['Украинский', 'Русский',],\n",
    "        value = choice,\n",
    "        layout={'width': 'max-content'},\n",
    "        description='Детектор языка текста в буфере:',\n",
    "        disabled=False)\n",
    "radio_choice"
   ]
  },
  {
   "cell_type": "markdown",
   "id": "04e47d96-5a00-4415-a8b8-650ba6cf79ea",
   "metadata": {},
   "source": [
    "<h3 style=\"font-family: 'Times New Roman'\">Обработчик текста</h3>"
   ]
  },
  {
   "cell_type": "code",
   "execution_count": null,
   "id": "2109cf2d-79e2-42eb-b80b-afee3a1e45d8",
   "metadata": {},
   "outputs": [],
   "source": [
    "from tqdm.notebook import tqdm\n",
    "from mtrans import BingTranslator, DeepLTranslator, GoogleTranslator\n",
    "from mtrans import RateLimitException\n",
    "\n",
    "if language == 'ru':\n",
    "    choice = 'Русский'\n",
    "    vc_from = \"ru\"\n",
    "    vc_to = \"uk\"\n",
    "else:\n",
    "    choice = 'Украинский'\n",
    "    vc_from = \"uk\"\n",
    "    vc_to = \"ru\"\n",
    "\n",
    "text = wtx.value.translate(str.maketrans('', '', string.punctuation))\n",
    "morph = pymorphy3.MorphAnalyzer(lang=language)\n",
    "words = text.split()\n",
    "\n",
    "fnormal = []\n",
    "itoken = []\n",
    "mtag = []\n",
    "lang = []\n",
    "\n",
    "for b in tqdm(range(len(words))):\n",
    "    word = words[b]\n",
    "    e = [t for t in tags.value if t in morph.parse(word)[0].tag]\n",
    "    if len(e) == 0:\n",
    "        itoken.append(str(word))\n",
    "        fnormal.append(str(morph.parse(word)[0].normal_form))\n",
    "        mtag.append(str(morph.parse(word)[0].tag))\n",
    "        \n",
    "        bing_translator = BingTranslator()  \n",
    "        bing_translation = bing_translator.translate(fnormal[-1], vc_from, vc_to)\n",
    "        bing_res = bing_translation['translations'][0]['text']\n",
    "        \n",
    "        # google_translator = GoogleTranslator()  \n",
    "        # google_translation = google_translator.translate(fnormal[-1], vc_from, vc_to)\n",
    "        # google_res = google_translation['sentences'][0]['trans']\n",
    "\n",
    "        bing_normal_form = str(morph.parse(bing_res)[0].normal_form)\n",
    "        if len(bing_res) > 0 : lang.append(bing_normal_form.lower())\n",
    "        \n",
    "base = {'Нормальная форма' : fnormal, 'Перевод': lang, 'Начальная' : itoken, 'Тег' : mtag}\n",
    "df_normal = pd.DataFrame(base)\n",
    "\n",
    "fsize = TextRenderer(font=Expr(\"'12px Calibri'\"))\n",
    "renderers = {\"Нормальная форма\": fsize, \"Перевод\": fsize, \"Начальная\": fsize, \"Тег\": fsize} \n",
    "lemma_table = DataGrid(df_normal, layout={\"height\": \"250px\", \"width\": \"1000px\"}, selection_mode=\"cell\", base_row_size=21, base_column_size=170, renderers=renderers)\n",
    "lemma_table"
   ]
  },
  {
   "cell_type": "markdown",
   "id": "a226d243-96ef-4a03-bea5-404bcad20e65",
   "metadata": {},
   "source": [
    "<h3 style=\"font-family: 'Times New Roman'\">Загрузить лексемы из Google листа по теме</h3>"
   ]
  },
  {
   "cell_type": "code",
   "execution_count": null,
   "id": "1f9c0285-9fcd-41e7-b842-2f2d369c05e7",
   "metadata": {},
   "outputs": [],
   "source": [
    "fval_ua = [b for b in work_sheet.col_values(widget_sheet_theme.value) if b]\n",
    "fval_ru = [b for b in work_sheet.col_values(widget_sheet_theme.value + 1) if b]\n",
    "\n",
    "max_len = max(len(fval_ua), len(fval_ru))\n",
    "while len(fval_ua) < max_len: fval_ua.append(None)\n",
    "while len(fval_ru) < max_len: fval_ru.append(None)\n",
    "\n",
    "fval_name_first = '_'.join([fval_ua[0], fval_ua[1]])\n",
    "fval_name_second = '_'.join([fval_ru[0], fval_ru[1]])\n",
    "\n",
    "gbase = {fval_name_first : fval_ua[2:], fval_name_second : fval_ru[2:]}\n",
    "gbase_pd = pd.DataFrame.from_dict(gbase)\n",
    "\n",
    "fsize = TextRenderer(font=Expr(\"'12px Calibri'\"))\n",
    "renderers = {fval_name_first: fsize, fval_name_second: fsize} \n",
    "gtable = DataGrid(gbase_pd, layout={\"height\": \"250px\",\"width\": \"1000px\"}, selection_mode=\"cell\", base_row_size=21, base_column_size=300, renderers=renderers)\n",
    "gtable"
   ]
  },
  {
   "cell_type": "markdown",
   "id": "f28f6d5c-4bed-4a7b-b09e-d2246bd85785",
   "metadata": {},
   "source": [
    "<h3 style=\"font-family: 'Times New Roman'\">Редактор объединенных лемм</h3>"
   ]
  },
  {
   "cell_type": "code",
   "execution_count": null,
   "id": "1cf20f36-d4b8-44fa-aa6d-f67131fd03b3",
   "metadata": {},
   "outputs": [],
   "source": [
    "lemma_view = lemma_table.data\n",
    "lemma_column_data = lemma_view.to_dict()\n",
    "lemma_normal = {v for k, v in lemma_column_data['Нормальная форма'].items()}\n",
    "lemma_translate = {v for k, v in lemma_column_data['Перевод'].items()}\n",
    "\n",
    "# print('lemma', vc_from, lemma_normal, sep=\" |\")\n",
    "# print('lemma', vc_to, lemma_translate, sep=\" |\")\n",
    "\n",
    "google_view = gtable.data\n",
    "google_column_data = google_view.to_dict()\n",
    "google_sheet_uk = {v for k, v in google_column_data[fval_name_first].items()}\n",
    "google_sheet_ru = {v for k, v in google_column_data[fval_name_second].items()}\n",
    "\n",
    "# print('Google', fval_name_first, google_sheet_uk, sep=\" |\")\n",
    "# print('Google', fval_name_second, google_sheet_ru, sep=\" |\")\n",
    "\n",
    "if vc_from == 'uk':\n",
    "    union_uk = {'uk': list(set.union(google_sheet_uk, lemma_normal))}\n",
    "    union_ru = {'ru': list(set.union(google_sheet_ru, lemma_translate))}\n",
    "elif vc_from == 'ru':\n",
    "    union_uk = {'uk': list(set.union(google_sheet_uk, lemma_translate))}\n",
    "    union_ru = {'ru': list(set.union(google_sheet_ru, lemma_normal))}\n",
    "\n",
    "frame1 = pd.DataFrame({\"Ukraine\": union_uk['uk'], \"Russian\": union_ru['ru']})\n",
    "mytable = pn.widgets.Tabulator(value=frame1)\n",
    "button1 = pn.widgets.Button(name=\"Добавить строку\")\n",
    "button2 = pn.widgets.Button(name=\"Удалить выделленные строки\")\n",
    "\n",
    "def change_data(_):\n",
    "    frame2 = pd.DataFrame({\"Ukraine\": [None], \"Russian\": [None]})\n",
    "    mytable.stream(frame2)\n",
    "    \n",
    "def remove_selected_rows(_):\n",
    "    mytable.value = mytable.value.drop(mytable.selection)\n",
    "\n",
    "button1.on_click(change_data)\n",
    "button2.on_click(remove_selected_rows)\n",
    "pn.Column(pn.Row(button1,button2), mytable).servable()"
   ]
  },
  {
   "cell_type": "markdown",
   "id": "1325a49d-b00f-462c-86cd-df8834e6d181",
   "metadata": {},
   "source": [
    "<h3 style=\"font-family: 'Times New Roman'\">Отправить данные в Google лист</h3>"
   ]
  },
  {
   "cell_type": "code",
   "execution_count": null,
   "id": "e4c8e6ea-85ea-4ead-b1cc-1417f5318f27",
   "metadata": {},
   "outputs": [],
   "source": [
    "goutput = widgets.Output()\n",
    "gbutton = widgets.Button(\n",
    "    description='Перезаписать',\n",
    "    disabled=False,\n",
    "    button_style='', \n",
    "    tooltip='Click me',\n",
    "    icon='check',)\n",
    "\n",
    "def on_button_clicked_google(b):\n",
    "  with goutput:\n",
    "        out_data = mytable.value\n",
    "        out_data_dict = out_data.to_dict()\n",
    "        out_data_list_uk = [v for k, v in out_data_dict['Ukraine'].items()]\n",
    "        \n",
    "        for b in work_sheet.col_values(widget_sheet_theme.value):\n",
    "            if b in out_data_list_uk:\n",
    "                out_data_list_uk.remove(b)\n",
    "        print(out_data_list_uk)\n",
    "        \n",
    "        out_data_list_ru = [v for k, v in out_data_dict['Russian'].items()]\n",
    "        for b in work_sheet.col_values(widget_sheet_theme.value + 1):\n",
    "            if b in out_data_list_ru:\n",
    "                out_data_list_ru.remove(b)\n",
    "        print(out_data_list_ru)\n",
    "        print('Заглушка')\n",
    "      \n",
    "gbutton.on_click(on_button_clicked_google)\n",
    "display(gbutton, goutput)"
   ]
  },
  {
   "cell_type": "code",
   "execution_count": null,
   "id": "b53140a2-afdd-49f5-a7b2-3346eba3e261",
   "metadata": {},
   "outputs": [],
   "source": []
  }
 ],
 "metadata": {
  "kernelspec": {
   "display_name": "Python 3 (ipykernel)",
   "language": "python",
   "name": "python3"
  },
  "language_info": {
   "codemirror_mode": {
    "name": "ipython",
    "version": 3
   },
   "file_extension": ".py",
   "mimetype": "text/x-python",
   "name": "python",
   "nbconvert_exporter": "python",
   "pygments_lexer": "ipython3",
   "version": "3.12.0"
  }
 },
 "nbformat": 4,
 "nbformat_minor": 5
}
